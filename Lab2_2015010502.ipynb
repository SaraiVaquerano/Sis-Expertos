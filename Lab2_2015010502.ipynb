{
 "cells": [
  {
   "cell_type": "code",
   "execution_count": 30,
   "metadata": {
    "scrolled": true
   },
   "outputs": [
    {
     "name": "stderr",
     "output_type": "stream",
     "text": [
      "<ipython-input-30-82eba231ca3b>:11: RuntimeWarning: overflow encountered in long_scalars\n",
      "  suma+=i\n"
     ]
    },
    {
     "name": "stdout",
     "output_type": "stream",
     "text": [
      "368100837\n",
      "[5239926 2332411 3061602 ... 8419151 1251286 1998810]\n",
      "Duracion: 2.850080728530884 segundos\n"
     ]
    }
   ],
   "source": [
    "import random\n",
    "import time\n",
    "import numpy as np\n",
    "\n",
    "inicio = time.time()\n",
    "randnums= np.random.randint(500,10000000,10000000) \n",
    "suma = 0 \n",
    "\n",
    "for i in randnums:\n",
    "    if i <= 500000:\n",
    "        suma+=i\n",
    "\n",
    "print (suma)\n",
    "print(randnums)\n",
    "print('Duracion: {} segundos'.format(time.time() - inicio))"
   ]
  },
  {
   "cell_type": "code",
   "execution_count": 31,
   "metadata": {},
   "outputs": [
    {
     "name": "stdout",
     "output_type": "stream",
     "text": [
      "368100837\n"
     ]
    }
   ],
 
  },
  {
   "cell_type": "code",
   "execution_count": null,
   "metadata": {},
   "outputs": [],
   "source": []
  }
 ],
 "metadata": {
  "kernelspec": {
   "display_name": "Python 3",
   "language": "python",
   "name": "python3"
  },
  "language_info": {
   "codemirror_mode": {
    "name": "ipython",
    "version": 3
   },
   "file_extension": ".py",
   "mimetype": "text/x-python",
   "name": "python",
   "nbconvert_exporter": "python",
   "pygments_lexer": "ipython3",
   "version": "3.8.3"
  }
 },
 "nbformat": 4,
 "nbformat_minor": 4
}
