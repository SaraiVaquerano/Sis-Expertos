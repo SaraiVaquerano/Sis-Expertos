{
 "cells": [
  {
   "cell_type": "code",
   "execution_count": 33,
   "metadata": {
    "scrolled": true
   },
   "outputs": [
    {
     "name": "stdout",
     "output_type": "stream",
     "text": [
      "4999890285.290931\n",
      "[537.00069704 429.8606383  514.76734271 ... 495.25038492 479.22772244\n",
      " 492.02256079]\n",
      "Duracion: 4.84507417678833 segundos\n"
     ]
    }
   ],
   "source": [
    "import random\n",
    "import time\n",
    "import numpy as np\n",
    "\n",
    "inicio = time.time()\n",
    "randnums= np.random.normal(500,30,10000000) \n",
    "suma = 0 \n",
    "\n",
    "for i in randnums:\n",
    "    if i <= 500000:\n",
    "        suma+=i\n",
    "\n",
    "print (suma)\n",
    "print(randnums)\n",
    "print('Duracion: {} segundos'.format(time.time() - inicio))"
   ]
  }
 ],
 "metadata": {
  "kernelspec": {
   "display_name": "Python 3",
   "language": "python",
   "name": "python3"
  },
  "language_info": {
   "codemirror_mode": {
    "name": "ipython",
    "version": 3
   },
   "file_extension": ".py",
   "mimetype": "text/x-python",
   "name": "python",
   "nbconvert_exporter": "python",
   "pygments_lexer": "ipython3",
   "version": "3.8.3"
  }
 },
 "nbformat": 4,
 "nbformat_minor": 4
}
