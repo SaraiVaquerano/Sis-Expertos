{
 "cells": [
  {
   "cell_type": "code",
   "execution_count": 3,
   "metadata": {},
   "outputs": [
    {
     "name": "stdout",
     "output_type": "stream",
     "text": [
      "5000068365.954429\n",
      "Duracion: 0.3039999008178711 segundos\n"
     ]
    }
   ],
   "source": [
    "#importar librerias \n",
    "import time\n",
    "import numpy as np\n",
    "\n",
    "#inicialización de variables y generación de números al azar\n",
    "inicio = time.time ()\n",
    "puntos = np.random.normal(500,30,10000000) \n",
    "suma_puntos = 0\n",
    "\n",
    "#suma de puntos menores a 500,000\n",
    "suma_puntos=puntos[puntos<=500000]\n",
    "suma_puntos=np.sum(suma_puntos)\n",
    "\n",
    "#imprimir resultados \n",
    "print(suma_puntos)\n",
    "print('Duracion: {} segundos'.format(time.time() - inicio))"
   ]
  },
  {
   "cell_type": "code",
   "execution_count": null,
   "metadata": {},
   "outputs": [],
   "source": []
  }
 ],
 "metadata": {
  "kernelspec": {
   "display_name": "Python 3",
   "language": "python",
   "name": "python3"
  },
  "language_info": {
   "codemirror_mode": {
    "name": "ipython",
    "version": 3
   },
   "file_extension": ".py",
   "mimetype": "text/x-python",
   "name": "python",
   "nbconvert_exporter": "python",
   "pygments_lexer": "ipython3",
   "version": "3.8.3"
  }
 },
 "nbformat": 4,
 "nbformat_minor": 4
}
