{
 "cells": [
  {
   "cell_type": "code",
   "execution_count": 130,
   "metadata": {},
   "outputs": [],
   "source": [
    "import time\n",
    "import pandas as pd\n",
    "import numpy as np\n",
    "costos = pd.read_csv('C:/Users/gabri/Desktop/SE/costos.txt', sep=\" \", header=None)"
   ]
  },
  {
   "cell_type": "code",
   "execution_count": 131,
   "metadata": {
    "scrolled": false
   },
   "outputs": [
    {
     "name": "stdout",
     "output_type": "stream",
     "text": [
      "La inversion es de: $ [32869928]\n",
      "Duracion: 13.469147443771362 segundos\n"
     ]
    }
   ],
   "source": [
    "#Solucion 1\n",
    "a = np.array(costos)\n",
    "suma = 0\n",
    "inicio = time.time()\n",
    "\n",
    "for i in a:\n",
    "    if i <= 25: \n",
    "        suma+=i\n",
    "        \n",
    "\n",
    "print (\"La inversion es de: $\",suma)\n",
    "print('Duracion: {} segundos'.format(time.time() - inicio))"
   ]
  },
  {
   "cell_type": "code",
   "execution_count": 132,
   "metadata": {},
   "outputs": [
    {
     "name": "stdout",
     "output_type": "stream",
     "text": [
      "La inversion es de: $ 32869928\n",
      "Duracion: 0.060036659240722656 segundos\n"
     ]
    }
   ],
   "source": [
    "# Solucion 2\n",
    "a = np.array(costos)\n",
    "suma = 0\n",
    "inicio = time.time()\n",
    "\n",
    "suma=a[a<=25]\n",
    "suma=np.sum(suma)\n",
    "\n",
    "print (\"La inversion es de: $\",suma)\n",
    "print('Duracion: {} segundos'.format(time.time() - inicio))"
   ]
  }
 ],
 "metadata": {
  "kernelspec": {
   "display_name": "Python 3",
   "language": "python",
   "name": "python3"
  },
  "language_info": {
   "codemirror_mode": {
    "name": "ipython",
    "version": 3
   },
   "file_extension": ".py",
   "mimetype": "text/x-python",
   "name": "python",
   "nbconvert_exporter": "python",
   "pygments_lexer": "ipython3",
   "version": "3.8.3"
  }
 },
 "nbformat": 4,
 "nbformat_minor": 4
}
